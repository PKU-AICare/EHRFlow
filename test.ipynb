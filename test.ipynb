{
 "cells": [
  {
   "cell_type": "code",
   "execution_count": 1,
   "id": "fb0052d30fed2d3b",
   "metadata": {
    "collapsed": false,
    "ExecuteTime": {
     "end_time": "2024-03-14T02:44:41.871106Z",
     "start_time": "2024-03-14T02:44:39.440430Z"
    }
   },
   "outputs": [],
   "source": [
    "import os\n",
    "import openai\n",
    "from langchain_openai import ChatOpenAI\n",
    "from dotenv import load_dotenv, find_dotenv\n",
    "_ = load_dotenv(find_dotenv())\n",
    "openai.api_key = os.environ['OPENAI_API_KEY']\n",
    "from GraceAgent.LLMPlanner import GracePlanner\n",
    "from Utils.PromptTemplateBuilder import PromptTemplateBuilder\n",
    "from langchain_core.prompts.chat import SystemMessagePromptTemplate,ChatPromptTemplate"
   ]
  },
  {
   "cell_type": "code",
   "outputs": [],
   "source": [
    "from Tools import *\n",
    "from Tools.PythonTool import xiaoyaAnalyser"
   ],
   "metadata": {
    "collapsed": false,
    "ExecuteTime": {
     "end_time": "2024-03-14T02:44:42.273577Z",
     "start_time": "2024-03-14T02:44:41.871134Z"
    }
   },
   "id": "32b3df545c72d71f",
   "execution_count": 2
  },
  {
   "cell_type": "code",
   "outputs": [],
   "source": [
    "tools = [\n",
    "    document_generation_tool,\n",
    "    directory_inspection_tool,\n",
    "    CSV_inspection_tool,\n",
    "    finish_placeholder,\n",
    "    xiaoyaAnalyser(\n",
    "        prompt_path=\"./prompts/Tools\",\n",
    "        info_path=\"./Tools/xiaoya_info\"\n",
    "    ).as_tool()\n",
    "]"
   ],
   "metadata": {
    "collapsed": false,
    "ExecuteTime": {
     "end_time": "2024-03-14T02:44:42.426106Z",
     "start_time": "2024-03-14T02:44:42.274003Z"
    }
   },
   "id": "52ddf97c64d869d3",
   "execution_count": 3
  },
  {
   "cell_type": "code",
   "outputs": [],
   "source": [
    "model = ChatOpenAI(model=\"gpt-4\",temperature=0)\n",
    "planner = GracePlanner(model, tools, stop=['<END_OF_PLAN>'])"
   ],
   "metadata": {
    "collapsed": true,
    "ExecuteTime": {
     "end_time": "2024-03-14T02:44:42.523264Z",
     "start_time": "2024-03-14T02:44:42.427488Z"
    }
   },
   "id": "initial_id",
   "execution_count": 4
  },
  {
   "cell_type": "code",
   "outputs": [],
   "source": [],
   "metadata": {
    "collapsed": false,
    "ExecuteTime": {
     "end_time": "2024-03-14T02:26:23.093926Z",
     "start_time": "2024-03-14T02:26:23.092741Z"
    }
   },
   "id": "6b00c5a8a373e3ce",
   "execution_count": null
  },
  {
   "cell_type": "code",
   "outputs": [],
   "source": [
    "from GraceAgent import GraceExecutor\n",
    "\n",
    "executor = GraceExecutor(\n",
    "        llm=model,\n",
    "        prompts_path=\"./prompts/main\",\n",
    "        tools=tools,\n",
    "        work_dir='datasets',\n",
    "        main_prompt_file='executor.json',\n",
    "        final_prompt_file='final_step.json',\n",
    "        max_thought_steps=10,\n",
    "    )"
   ],
   "metadata": {
    "collapsed": false,
    "ExecuteTime": {
     "start_time": "2024-03-14T02:26:23.095553Z"
    }
   },
   "id": "5a17e653239c5c5a",
   "execution_count": null
  },
  {
   "cell_type": "code",
   "outputs": [],
   "source": [
    "executor.run({\"previous_steps\":\"\",\"current_step\":\"读取数据集以获取男女信息。\"})"
   ],
   "metadata": {
    "collapsed": false,
    "ExecuteTime": {
     "end_time": "2024-03-14T02:26:23.103196Z",
     "start_time": "2024-03-14T02:26:23.099371Z"
    }
   },
   "id": "44e0ddd8a60b870",
   "execution_count": null
  },
  {
   "cell_type": "code",
   "outputs": [],
   "source": [
    "prompt = PromptTemplateBuilder(prompt_path=\"./prompts/executor\", prompt_file=\"executor.json\").build(\n",
    "    tools=tools\n",
    ").partial(\n",
    "            work_dir='./datasets',\n",
    "    current_step=\"\",\n",
    "format_instructions = \"\", \n",
    "input=\"\", \n",
    "previous_step=\"\", \n",
    "short_term_memory=\"\"\n",
    "        )"
   ],
   "metadata": {
    "collapsed": false,
    "ExecuteTime": {
     "start_time": "2024-03-14T02:26:23.099941Z"
    }
   },
   "id": "2b71a6a3ad27913e",
   "execution_count": null
  },
  {
   "cell_type": "code",
   "outputs": [],
   "source": [
    "print(prompt.format())"
   ],
   "metadata": {
    "collapsed": false,
    "ExecuteTime": {
     "start_time": "2024-03-14T02:26:23.100707Z"
    }
   },
   "id": "568c57b1147d7bcd",
   "execution_count": null
  },
  {
   "cell_type": "code",
   "outputs": [],
   "source": [
    "tools = [\n",
    "    document_generation_tool,\n",
    "    directory_inspection_tool,\n",
    "    CSV_inspection_tool,\n",
    "    finish_placeholder,\n",
    "    xiaoyaAnalyser(\n",
    "        prompt_path=\"./prompts/Tools\",\n",
    "        info_path=\"./Tools/xiaoya_info\"\n",
    "    ).as_tool()\n",
    "]\n",
    "model = ChatOpenAI(model='gpt-4-turbo-preview', temperature=0,model_kwargs={\"seed\": 42})\n",
    "planner = GracePlanner(model, tools, stop=['<END_OF_PLAN>'])"
   ],
   "metadata": {
    "collapsed": false,
    "ExecuteTime": {
     "end_time": "2024-03-14T02:44:50.997908Z",
     "start_time": "2024-03-14T02:44:50.888579Z"
    }
   },
   "id": "c0a5c236b18fbd61",
   "execution_count": 5
  },
  {
   "cell_type": "code",
   "outputs": [
    {
     "data": {
      "text/plain": "[StructuredTool(name='GenerateDocument', description='GenerateDocument(query: str) - 根据需求描述生成一篇正式文档', args_schema=<class 'pydantic.v1.main.GenerateDocumentSchema'>, func=<function write at 0x12b134af0>),\n StructuredTool(name='ListDirectory', description='ListDirectory(path: str) -> str - 探查文件夹的内容和结构，展示它的文件名和文件夹名', args_schema=<class 'pydantic.v1.main.ListDirectorySchema'>, func=<function list_files_in_directory at 0x12b134d30>),\n StructuredTool(name='InspectCSV', description='InspectCSV(filename: str, n: int = 3) -> str - 探查表格文件的内容和结构，展示它的列名和前n行，n默认为3', args_schema=<class 'pydantic.v1.main.InspectCSVSchema'>, func=<function get_first_n_rows at 0x12b1351b0>),\n StructuredTool(name='FINISH', description='FINISH() - 用于表示任务完成的占位符：FINISH', args_schema=<class 'pydantic.v1.main.FINISHSchema'>, func=<function <lambda> at 0x12b135240>),\n StructuredTool(name='AnalyseCSV', description='AnalyseCSV(inputs) - 通过程序脚本分析一个结构化文件（例如CSV文件）的内容。输入必须是以字典的形式进行指明,其中包含三个键： type、files和content。\\n            type:只能是(数据预处理、数据分析、数据可视化、其他)其中一项\\n            files:文件的完整路径,可以是多个文件\\n            content:尽可能完整的阐述当前分析阶段、具体分析方式和分析依据，阈值常量等。\\n            如果输入信息不完整，你可以拒绝回答。', args_schema=<class 'pydantic.v1.main.AnalyseCSVSchema'>, func=<bound method xiaoyaAnalyser.analyse of <Tools.PythonTool.xiaoyaAnalyser object at 0x12f0f5a20>>)]"
     },
     "execution_count": 8,
     "metadata": {},
     "output_type": "execute_result"
    }
   ],
   "source": [
    "tools"
   ],
   "metadata": {
    "collapsed": false,
    "ExecuteTime": {
     "end_time": "2024-03-14T03:05:02.935885Z",
     "start_time": "2024-03-14T03:05:02.920805Z"
    }
   },
   "id": "d9f763e81c6ecb23",
   "execution_count": 8
  },
  {
   "cell_type": "code",
   "outputs": [
    {
     "data": {
      "text/plain": "[('GenerateDocument', 'GenerateDocument(query: str) - 根据需求描述生成一篇正式文档'),\n ('ListDirectory',\n  'ListDirectory(path: str) -> str - 探查文件夹的内容和结构，展示它的文件名和文件夹名'),\n ('InspectCSV',\n  'InspectCSV(filename: str, n: int = 3) -> str - 探查表格文件的内容和结构，展示它的列名和前n行，n默认为3'),\n ('FINISH', 'FINISH() - 用于表示任务完成的占位符：FINISH'),\n ('AnalyseCSV',\n  'AnalyseCSV(inputs) - 通过程序脚本分析一个结构化文件（例如CSV文件）的内容。输入必须是以字典的形式进行指明,其中包含三个键： type、files和content。\\n            type:只能是(数据预处理、数据分析、数据可视化、其他)其中一项\\n            files:文件的完整路径,可以是多个文件\\n            content:尽可能完整的阐述当前分析阶段、具体分析方式和分析依据，阈值常量等。\\n            如果输入信息不完整，你可以拒绝回答。')]"
     },
     "execution_count": 9,
     "metadata": {},
     "output_type": "execute_result"
    }
   ],
   "source": [
    "[(tool.name,tool.description) for tool in tools]"
   ],
   "metadata": {
    "collapsed": false,
    "ExecuteTime": {
     "end_time": "2024-03-14T03:05:17.987125Z",
     "start_time": "2024-03-14T03:05:17.975606Z"
    }
   },
   "id": "18d780af57d64a93",
   "execution_count": 9
  },
  {
   "cell_type": "code",
   "outputs": [
    {
     "name": "stdout",
     "output_type": "stream",
     "text": [
      "steps=[Step(value='使用ListDirectory动作，获取\"./datasets\"文件夹中的文件列表。'), Step(value='对于\"./datasets\"文件夹中的每个CSV文件，使用xiaoya包的一键数据预处理功能进行处理。'), Step(value='完成数据预处理后，任务结束。\\n<END_OF_PLAN>')]\n"
     ]
    }
   ],
   "source": [
    "print(planner.plan({'input':\"请帮我处理一下数据集\",'previous_steps':\"\"}))"
   ],
   "metadata": {
    "collapsed": false,
    "ExecuteTime": {
     "end_time": "2024-03-14T02:45:16.402466Z",
     "start_time": "2024-03-14T02:44:51.444978Z"
    }
   },
   "id": "6c865d93894f4f19",
   "execution_count": 6
  },
  {
   "cell_type": "code",
   "outputs": [],
   "source": [
    "from Tools.Interpreter import Interpreter"
   ],
   "metadata": {
    "collapsed": false,
    "ExecuteTime": {
     "end_time": "2024-03-14T11:29:27.851781Z",
     "start_time": "2024-03-14T11:29:26.343856Z"
    }
   },
   "id": "245bd86a1cc3890e",
   "execution_count": 1
  },
  {
   "cell_type": "code",
   "outputs": [],
   "source": [
    "interpreter = Interpreter()"
   ],
   "metadata": {
    "collapsed": false,
    "ExecuteTime": {
     "end_time": "2024-03-14T11:29:50.762782Z",
     "start_time": "2024-03-14T11:29:50.741624Z"
    }
   },
   "id": "754cd0230206a532",
   "execution_count": 2
  },
  {
   "cell_type": "code",
   "outputs": [],
   "source": [
    "code1 = '''\n",
    "x = 10\n",
    "y = 20\n",
    "print(x + y)\n",
    "'''"
   ],
   "metadata": {
    "collapsed": false,
    "ExecuteTime": {
     "end_time": "2024-03-14T13:29:36.604037Z",
     "start_time": "2024-03-14T13:29:36.596841Z"
    }
   },
   "id": "986cea7ee4d032b4",
   "execution_count": 4
  },
  {
   "cell_type": "code",
   "outputs": [],
   "source": [
    "code2 = '''\n",
    "z = x * y\n",
    "print(z)\n",
    "'''"
   ],
   "metadata": {
    "collapsed": false,
    "ExecuteTime": {
     "end_time": "2024-03-14T11:30:19.843724Z",
     "start_time": "2024-03-14T11:30:19.836542Z"
    }
   },
   "id": "402c8dac487d5015",
   "execution_count": 4
  },
  {
   "cell_type": "code",
   "outputs": [
    {
     "name": "stdout",
     "output_type": "stream",
     "text": [
      "30\n"
     ]
    }
   ],
   "source": [
    "interpreter.execute(code1)"
   ],
   "metadata": {
    "collapsed": false,
    "ExecuteTime": {
     "end_time": "2024-03-14T11:32:01.548366Z",
     "start_time": "2024-03-14T11:32:01.430592Z"
    }
   },
   "id": "7e17cc2b8a1771e8",
   "execution_count": 5
  },
  {
   "cell_type": "code",
   "outputs": [
    {
     "name": "stdout",
     "output_type": "stream",
     "text": [
      "200\n"
     ]
    }
   ],
   "source": [
    "interpreter.execute(code2)"
   ],
   "metadata": {
    "collapsed": false,
    "ExecuteTime": {
     "end_time": "2024-03-14T11:32:08.607788Z",
     "start_time": "2024-03-14T11:32:08.597429Z"
    }
   },
   "id": "9751ff8fae0830ed",
   "execution_count": 6
  },
  {
   "cell_type": "code",
   "outputs": [],
   "source": [
    "from Tools.Interpreter import Interpreter"
   ],
   "metadata": {
    "collapsed": false,
    "ExecuteTime": {
     "end_time": "2024-03-14T13:28:23.342797Z",
     "start_time": "2024-03-14T13:28:21.824218Z"
    }
   },
   "id": "2dc441b861618763",
   "execution_count": 1
  },
  {
   "cell_type": "code",
   "outputs": [],
   "source": [
    "interpreter = Interpreter()"
   ],
   "metadata": {
    "collapsed": false,
    "ExecuteTime": {
     "end_time": "2024-03-14T13:29:12.360723Z",
     "start_time": "2024-03-14T13:29:12.348027Z"
    }
   },
   "id": "14c4999bab89d02f",
   "execution_count": 2
  },
  {
   "cell_type": "code",
   "outputs": [
    {
     "name": "stdout",
     "output_type": "stream",
     "text": [
      "30\n"
     ]
    }
   ],
   "source": [
    "ans = interpreter.execute(code1)"
   ],
   "metadata": {
    "collapsed": false,
    "ExecuteTime": {
     "end_time": "2024-03-14T13:29:45.438798Z",
     "start_time": "2024-03-14T13:29:45.402514Z"
    }
   },
   "id": "fb771a26e2942c0b",
   "execution_count": 5
  },
  {
   "cell_type": "code",
   "outputs": [
    {
     "data": {
      "text/plain": "'30\\n'"
     },
     "execution_count": 6,
     "metadata": {},
     "output_type": "execute_result"
    }
   ],
   "source": [
    "ans"
   ],
   "metadata": {
    "collapsed": false,
    "ExecuteTime": {
     "end_time": "2024-03-14T13:29:49.741205Z",
     "start_time": "2024-03-14T13:29:49.723337Z"
    }
   },
   "id": "6208fd90926769e1",
   "execution_count": 6
  },
  {
   "cell_type": "code",
   "outputs": [
    {
     "name": "stdout",
     "output_type": "stream",
     "text": [
      "30\n"
     ]
    }
   ],
   "source": [
    "tool.run(code1)"
   ],
   "metadata": {
    "collapsed": false,
    "ExecuteTime": {
     "end_time": "2024-03-14T11:56:33.815418Z",
     "start_time": "2024-03-14T11:56:33.691162Z"
    }
   },
   "id": "b6f577151f694e4c",
   "execution_count": 13
  },
  {
   "cell_type": "code",
   "outputs": [
    {
     "name": "stdout",
     "output_type": "stream",
     "text": [
      "200\n"
     ]
    }
   ],
   "source": [
    "ans = tool.run(code2)"
   ],
   "metadata": {
    "collapsed": false,
    "ExecuteTime": {
     "end_time": "2024-03-14T13:27:34.333613Z",
     "start_time": "2024-03-14T13:27:34.274103Z"
    }
   },
   "id": "94b407a911e89f41",
   "execution_count": 17
  },
  {
   "cell_type": "code",
   "outputs": [],
   "source": [
    "ans"
   ],
   "metadata": {
    "collapsed": false,
    "ExecuteTime": {
     "end_time": "2024-03-14T13:27:38.638351Z",
     "start_time": "2024-03-14T13:27:38.430749Z"
    }
   },
   "id": "47355e6d4f9c3c54",
   "execution_count": 18
  },
  {
   "cell_type": "code",
   "outputs": [],
   "source": [
    "tas = [(\"halahl\",\"heiheihiehei\"),(\"1234\",\"ajkajk\")]"
   ],
   "metadata": {
    "collapsed": false,
    "ExecuteTime": {
     "end_time": "2024-03-14T12:10:59.277036Z",
     "start_time": "2024-03-14T12:10:59.242177Z"
    }
   },
   "id": "6f06079e00a3f2e4",
   "execution_count": 15
  },
  {
   "cell_type": "code",
   "outputs": [
    {
     "data": {
      "text/plain": "\"[('halahl', 'heiheihiehei'), ('1234', 'ajkajk')]\""
     },
     "execution_count": 16,
     "metadata": {},
     "output_type": "execute_result"
    }
   ],
   "source": [
    "str(tas)"
   ],
   "metadata": {
    "collapsed": false,
    "ExecuteTime": {
     "end_time": "2024-03-14T12:11:06.620378Z",
     "start_time": "2024-03-14T12:11:06.590057Z"
    }
   },
   "id": "956504d59857e7d7",
   "execution_count": 16
  },
  {
   "cell_type": "code",
   "outputs": [],
   "source": [],
   "metadata": {
    "collapsed": false
   },
   "id": "6651c2307eaec7f1"
  }
 ],
 "metadata": {
  "kernelspec": {
   "name": "python3",
   "language": "python",
   "display_name": "Python 3 (ipykernel)"
  },
  "language_info": {
   "codemirror_mode": {
    "name": "ipython",
    "version": 2
   },
   "file_extension": ".py",
   "mimetype": "text/x-python",
   "name": "python",
   "nbconvert_exporter": "python",
   "pygments_lexer": "ipython2",
   "version": "2.7.6"
  }
 },
 "nbformat": 4,
 "nbformat_minor": 5
}
