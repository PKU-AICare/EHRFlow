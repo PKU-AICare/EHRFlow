{
 "cells": [
  {
   "cell_type": "code",
   "execution_count": 9,
   "id": "fb0052d30fed2d3b",
   "metadata": {
    "collapsed": false,
    "ExecuteTime": {
     "end_time": "2024-05-09T13:06:16.844995Z",
     "start_time": "2024-05-09T13:06:16.838980Z"
    }
   },
   "outputs": [],
   "source": [
    "import os\n",
    "import openai\n",
    "from langchain_openai import ChatOpenAI\n",
    "from dotenv import load_dotenv, find_dotenv\n",
    "_ = load_dotenv(find_dotenv())\n",
    "openai.api_key = os.environ['OPENAI_API_KEY']\n",
    "openai.base_url  = os.environ['OPENAI_API_BASE']\n",
    "from GraceAgent.LLMPlanner import GracePlanner\n",
    "from Utils.PromptTemplateBuilder import PromptTemplateBuilder\n",
    "from langchain_core.prompts.chat import SystemMessagePromptTemplate,ChatPromptTemplate"
   ]
  },
  {
   "cell_type": "code",
   "outputs": [],
   "source": [
    "from Utils.streamlitoutcallbackhandler import ChainStreamHandler"
   ],
   "metadata": {
    "collapsed": false,
    "ExecuteTime": {
     "end_time": "2024-05-09T13:06:18.417267Z",
     "start_time": "2024-05-09T13:06:18.402296Z"
    }
   },
   "id": "900425023a1d0d81",
   "execution_count": 10
  },
  {
   "cell_type": "code",
   "outputs": [],
   "source": [
    "import os\n",
    "import openai\n",
    "from langchain_openai import ChatOpenAI"
   ],
   "metadata": {
    "collapsed": false,
    "ExecuteTime": {
     "end_time": "2024-05-09T12:56:38.814373Z",
     "start_time": "2024-05-09T12:56:37.506583Z"
    }
   },
   "id": "9ed5ad35a8cdd213",
   "execution_count": 1
  },
  {
   "cell_type": "code",
   "outputs": [],
   "source": [
    "model = ChatOpenAI(model='gpt-4-turbo-preview',temperature=0, model_kwargs={\"seed\": 42})"
   ],
   "metadata": {
    "collapsed": false,
    "ExecuteTime": {
     "end_time": "2024-05-09T13:06:23.462206Z",
     "start_time": "2024-05-09T13:06:23.405444Z"
    }
   },
   "id": "2c2bb691cb758f87",
   "execution_count": 11
  },
  {
   "cell_type": "code",
   "outputs": [
    {
     "data": {
      "text/plain": "AIMessage(content='Hello! How can I assist you today?')"
     },
     "execution_count": 12,
     "metadata": {},
     "output_type": "execute_result"
    }
   ],
   "source": [
    "model.invoke(\"hello\")"
   ],
   "metadata": {
    "collapsed": false,
    "ExecuteTime": {
     "end_time": "2024-05-09T13:06:26.062196Z",
     "start_time": "2024-05-09T13:06:24.684265Z"
    }
   },
   "id": "fc6b9a3d23af1015",
   "execution_count": 12
  },
  {
   "cell_type": "code",
   "outputs": [],
   "source": [
    "from Tools import *\n",
    "from Tools.PythonTool import xiaoyaAnalyser"
   ],
   "metadata": {
    "collapsed": false,
    "ExecuteTime": {
     "end_time": "2024-04-04T07:55:42.999723Z",
     "start_time": "2024-04-04T07:55:42.983878Z"
    }
   },
   "id": "32b3df545c72d71f",
   "execution_count": 5
  },
  {
   "cell_type": "code",
   "outputs": [
    {
     "ename": "TypeError",
     "evalue": "xiaoyaAnalyser.__init__() missing 1 required positional argument: 'interpreter'",
     "output_type": "error",
     "traceback": [
      "\u001B[0;31m---------------------------------------------------------------------------\u001B[0m",
      "\u001B[0;31mTypeError\u001B[0m                                 Traceback (most recent call last)",
      "Cell \u001B[0;32mIn[6], line 5\u001B[0m\n\u001B[1;32m      1\u001B[0m tools \u001B[38;5;241m=\u001B[39m [\n\u001B[1;32m      2\u001B[0m     directory_inspection_tool,\n\u001B[1;32m      3\u001B[0m     CSV_inspection_tool,\n\u001B[1;32m      4\u001B[0m     finish_placeholder,\n\u001B[0;32m----> 5\u001B[0m     \u001B[43mxiaoyaAnalyser\u001B[49m\u001B[43m(\u001B[49m\n\u001B[1;32m      6\u001B[0m \u001B[43m        \u001B[49m\u001B[43mprompt_path\u001B[49m\u001B[38;5;241;43m=\u001B[39;49m\u001B[38;5;124;43m\"\u001B[39;49m\u001B[38;5;124;43m./prompts/Tools\u001B[39;49m\u001B[38;5;124;43m\"\u001B[39;49m\u001B[43m,\u001B[49m\n\u001B[1;32m      7\u001B[0m \u001B[43m        \u001B[49m\u001B[43minfo_path\u001B[49m\u001B[38;5;241;43m=\u001B[39;49m\u001B[38;5;124;43m\"\u001B[39;49m\u001B[38;5;124;43m./Tools/xiaoya_info\u001B[39;49m\u001B[38;5;124;43m\"\u001B[39;49m\n\u001B[1;32m      8\u001B[0m \u001B[43m    \u001B[49m\u001B[43m)\u001B[49m\u001B[38;5;241m.\u001B[39mas_tool()\n\u001B[1;32m      9\u001B[0m ]\n",
      "\u001B[0;31mTypeError\u001B[0m: xiaoyaAnalyser.__init__() missing 1 required positional argument: 'interpreter'"
     ]
    }
   ],
   "source": [
    "tools = [\n",
    "    directory_inspection_tool,\n",
    "    CSV_inspection_tool,\n",
    "    finish_placeholder,\n",
    "    xiaoyaAnalyser(\n",
    "        prompt_path=\"./prompts/Tools\",\n",
    "        info_path=\"./Tools/xiaoya_info\"\n",
    "    ).as_tool()\n",
    "]"
   ],
   "metadata": {
    "collapsed": false,
    "ExecuteTime": {
     "end_time": "2024-04-04T07:55:43.103584Z",
     "start_time": "2024-04-04T07:55:43.003629Z"
    }
   },
   "id": "52ddf97c64d869d3",
   "execution_count": 6
  },
  {
   "cell_type": "code",
   "outputs": [],
   "source": [
    "model = ChatOpenAI(model=\"gpt-4\",temperature=0)\n",
    "planner = GracePlanner(model, tools, stop=['<END_OF_PLAN>'])"
   ],
   "metadata": {
    "collapsed": true,
    "ExecuteTime": {
     "start_time": "2024-04-04T07:55:43.101709Z"
    }
   },
   "id": "initial_id",
   "execution_count": null
  },
  {
   "cell_type": "code",
   "outputs": [],
   "source": [
    "from GraceAgent import GraceExecutor\n",
    "\n",
    "executor = GraceExecutor(\n",
    "        llm=model,\n",
    "        prompts_path=\"./prompts/main\",\n",
    "        tools=tools,\n",
    "        work_dir='datasets',\n",
    "        main_prompt_file='executor.json',\n",
    "        final_prompt_file='final_step.json',\n",
    "        max_thought_steps=10,\n",
    "    )"
   ],
   "metadata": {
    "collapsed": false,
    "ExecuteTime": {
     "start_time": "2024-03-14T02:26:23.095553Z"
    }
   },
   "id": "5a17e653239c5c5a",
   "execution_count": null
  },
  {
   "cell_type": "code",
   "outputs": [],
   "source": [
    "executor.run({\"previous_steps\":\"\",\"current_step\":\"读取数据集以获取男女信息。\"})"
   ],
   "metadata": {
    "collapsed": false,
    "ExecuteTime": {
     "end_time": "2024-03-14T02:26:23.103196Z",
     "start_time": "2024-03-14T02:26:23.099371Z"
    }
   },
   "id": "44e0ddd8a60b870",
   "execution_count": null
  },
  {
   "cell_type": "code",
   "outputs": [],
   "source": [
    "prompt = PromptTemplateBuilder(prompt_path=\"./prompts/executor\", prompt_file=\"executor.json\").build(\n",
    "    tools=tools\n",
    ").partial(\n",
    "            work_dir='./datasets',\n",
    "    current_step=\"\",\n",
    "format_instructions = \"\", \n",
    "input=\"\", \n",
    "previous_step=\"\", \n",
    "short_term_memory=\"\"\n",
    "        )"
   ],
   "metadata": {
    "collapsed": false,
    "ExecuteTime": {
     "start_time": "2024-03-14T02:26:23.099941Z"
    }
   },
   "id": "2b71a6a3ad27913e",
   "execution_count": null
  },
  {
   "cell_type": "code",
   "outputs": [],
   "source": [
    "print(prompt.format())"
   ],
   "metadata": {
    "collapsed": false,
    "ExecuteTime": {
     "start_time": "2024-03-14T02:26:23.100707Z"
    }
   },
   "id": "568c57b1147d7bcd",
   "execution_count": null
  },
  {
   "cell_type": "code",
   "outputs": [],
   "source": [
    "from Tools.Interpreter import Interpreter\n",
    "interpreter = Interpreter()\n",
    "csv_files = [\"./datasets/raw_events_data.csv\", \"./datasets/raw_labtest_data.csv\", \"./datasets/raw_target_data.csv\"]\n",
    "\n",
    "tools = [\n",
    "    directory_inspection_tool,\n",
    "    CSV_inspection_tool,\n",
    "    finish_placeholder,\n",
    "    xiaoyaAnalyser(\n",
    "        prompt_path=\"./prompts/Tools\",\n",
    "        info_path=\"./Tools/xiaoya_info\",\n",
    "        interpreter=interpreter\n",
    "    ).as_tool()\n",
    "]\n",
    "\n",
    "model = ChatOpenAI(model='gpt-4-turbo-preview', temperature=0,model_kwargs={\"seed\": 42})\n",
    "planner = GracePlanner(model, tools, csv_files, stop=['<END_OF_PLAN>'])"
   ],
   "metadata": {
    "collapsed": false,
    "ExecuteTime": {
     "end_time": "2024-04-04T07:58:16.593092Z",
     "start_time": "2024-04-04T07:58:16.323958Z"
    }
   },
   "id": "c0a5c236b18fbd61",
   "execution_count": 12
  },
  {
   "cell_type": "code",
   "outputs": [
    {
     "ename": "TypeError",
     "evalue": "can only concatenate str (not \"dict\") to str",
     "output_type": "error",
     "traceback": [
      "\u001B[0;31m---------------------------------------------------------------------------\u001B[0m",
      "\u001B[0;31mTypeError\u001B[0m                                 Traceback (most recent call last)",
      "Cell \u001B[0;32mIn[15], line 1\u001B[0m\n\u001B[0;32m----> 1\u001B[0m \u001B[43mplanner\u001B[49m\u001B[38;5;241;43m.\u001B[39;49m\u001B[43mplan\u001B[49m\u001B[43m(\u001B[49m\u001B[43m{\u001B[49m\u001B[38;5;124;43m'\u001B[39;49m\u001B[38;5;124;43minput\u001B[39;49m\u001B[38;5;124;43m'\u001B[39;49m\u001B[43m:\u001B[49m\u001B[38;5;124;43m\"\u001B[39;49m\u001B[38;5;124;43m请帮我处理一下数据集\u001B[39;49m\u001B[38;5;124;43m\"\u001B[39;49m\u001B[43m,\u001B[49m\u001B[38;5;124;43m'\u001B[39;49m\u001B[38;5;124;43mprevious_steps\u001B[39;49m\u001B[38;5;124;43m'\u001B[39;49m\u001B[43m:\u001B[49m\u001B[38;5;124;43m\"\u001B[39;49m\u001B[38;5;124;43m\"\u001B[39;49m\u001B[43m}\u001B[49m\u001B[43m)\u001B[49m\n",
      "File \u001B[0;32m~/Documents/xhao/研究生/研究生项目/毕设专题AGENT/GraceGPT/GraceAgent/LLMPlanner.py:59\u001B[0m, in \u001B[0;36mGracePlanner.plan\u001B[0;34m(self, inputs, **kwargs)\u001B[0m\n\u001B[1;32m     57\u001B[0m     \u001B[38;5;28;01mif\u001B[39;00m \u001B[38;5;28mself\u001B[39m\u001B[38;5;241m.\u001B[39mverbose:\n\u001B[1;32m     58\u001B[0m         color_print(s, THOUGHT_COLOR, end\u001B[38;5;241m=\u001B[39m\u001B[38;5;124m\"\u001B[39m\u001B[38;5;124m\"\u001B[39m)\n\u001B[0;32m---> 59\u001B[0m     llm_response \u001B[38;5;241m+\u001B[39m\u001B[38;5;241m=\u001B[39m s\n\u001B[1;32m     60\u001B[0m \u001B[38;5;66;03m# llm_response = llm_chain.invoke(**inputs, stop=self.stop)\u001B[39;00m\n\u001B[1;32m     61\u001B[0m plan \u001B[38;5;241m=\u001B[39m \u001B[38;5;28mself\u001B[39m\u001B[38;5;241m.\u001B[39moutput_parser\u001B[38;5;241m.\u001B[39mparse(llm_response[\u001B[38;5;124m'\u001B[39m\u001B[38;5;124mtext\u001B[39m\u001B[38;5;124m'\u001B[39m])\n",
      "\u001B[0;31mTypeError\u001B[0m: can only concatenate str (not \"dict\") to str"
     ]
    }
   ],
   "source": [
    "planner.plan({'input':\"请帮我处理一下数据集\",'previous_steps':\"\"})"
   ],
   "metadata": {
    "collapsed": false,
    "ExecuteTime": {
     "end_time": "2024-04-04T07:59:25.096752Z",
     "start_time": "2024-04-04T07:58:42.660921Z"
    }
   },
   "id": "c858cd315730363f",
   "execution_count": 15
  },
  {
   "cell_type": "code",
   "outputs": [
    {
     "data": {
      "text/plain": "[StructuredTool(name='GenerateDocument', description='GenerateDocument(query: str) - 根据需求描述生成一篇正式文档', args_schema=<class 'pydantic.v1.main.GenerateDocumentSchema'>, func=<function write at 0x12b134af0>),\n StructuredTool(name='ListDirectory', description='ListDirectory(path: str) -> str - 探查文件夹的内容和结构，展示它的文件名和文件夹名', args_schema=<class 'pydantic.v1.main.ListDirectorySchema'>, func=<function list_files_in_directory at 0x12b134d30>),\n StructuredTool(name='InspectCSV', description='InspectCSV(filename: str, n: int = 3) -> str - 探查表格文件的内容和结构，展示它的列名和前n行，n默认为3', args_schema=<class 'pydantic.v1.main.InspectCSVSchema'>, func=<function get_first_n_rows at 0x12b1351b0>),\n StructuredTool(name='FINISH', description='FINISH() - 用于表示任务完成的占位符：FINISH', args_schema=<class 'pydantic.v1.main.FINISHSchema'>, func=<function <lambda> at 0x12b135240>),\n StructuredTool(name='AnalyseCSV', description='AnalyseCSV(inputs) - 通过程序脚本分析一个结构化文件（例如CSV文件）的内容。输入必须是以字典的形式进行指明,其中包含三个键： type、files和content。\\n            type:只能是(数据预处理、数据分析、数据可视化、其他)其中一项\\n            files:文件的完整路径,可以是多个文件\\n            content:尽可能完整的阐述当前分析阶段、具体分析方式和分析依据，阈值常量等。\\n            如果输入信息不完整，你可以拒绝回答。', args_schema=<class 'pydantic.v1.main.AnalyseCSVSchema'>, func=<bound method xiaoyaAnalyser.analyse of <Tools.PythonTool.xiaoyaAnalyser object at 0x12f0f5a20>>)]"
     },
     "execution_count": 8,
     "metadata": {},
     "output_type": "execute_result"
    }
   ],
   "source": [
    "tools"
   ],
   "metadata": {
    "collapsed": false,
    "ExecuteTime": {
     "end_time": "2024-03-14T03:05:02.935885Z",
     "start_time": "2024-03-14T03:05:02.920805Z"
    }
   },
   "id": "d9f763e81c6ecb23",
   "execution_count": 8
  },
  {
   "cell_type": "code",
   "outputs": [
    {
     "data": {
      "text/plain": "[('GenerateDocument', 'GenerateDocument(query: str) - 根据需求描述生成一篇正式文档'),\n ('ListDirectory',\n  'ListDirectory(path: str) -> str - 探查文件夹的内容和结构，展示它的文件名和文件夹名'),\n ('InspectCSV',\n  'InspectCSV(filename: str, n: int = 3) -> str - 探查表格文件的内容和结构，展示它的列名和前n行，n默认为3'),\n ('FINISH', 'FINISH() - 用于表示任务完成的占位符：FINISH'),\n ('AnalyseCSV',\n  'AnalyseCSV(inputs) - 通过程序脚本分析一个结构化文件（例如CSV文件）的内容。输入必须是以字典的形式进行指明,其中包含三个键： type、files和content。\\n            type:只能是(数据预处理、数据分析、数据可视化、其他)其中一项\\n            files:文件的完整路径,可以是多个文件\\n            content:尽可能完整的阐述当前分析阶段、具体分析方式和分析依据，阈值常量等。\\n            如果输入信息不完整，你可以拒绝回答。')]"
     },
     "execution_count": 9,
     "metadata": {},
     "output_type": "execute_result"
    }
   ],
   "source": [
    "[(tool.name,tool.description) for tool in tools]"
   ],
   "metadata": {
    "collapsed": false,
    "ExecuteTime": {
     "end_time": "2024-03-14T03:05:17.987125Z",
     "start_time": "2024-03-14T03:05:17.975606Z"
    }
   },
   "id": "18d780af57d64a93",
   "execution_count": 9
  },
  {
   "cell_type": "code",
   "outputs": [
    {
     "name": "stderr",
     "output_type": "stream",
     "text": [
      "\n",
      "KeyboardInterrupt\n",
      "\n"
     ]
    }
   ],
   "source": [
    "print(planner.plan({'input':\"请帮我处理一下数据集\",'previous_steps':\"\"}))"
   ],
   "metadata": {
    "collapsed": false,
    "ExecuteTime": {
     "end_time": "2024-04-04T07:58:31.833397Z",
     "start_time": "2024-04-04T07:58:22.657935Z"
    }
   },
   "id": "6c865d93894f4f19",
   "execution_count": 13
  },
  {
   "cell_type": "code",
   "outputs": [],
   "source": [
    "from Tools.Interpreter import Interpreter"
   ],
   "metadata": {
    "collapsed": false,
    "ExecuteTime": {
     "end_time": "2024-03-14T11:29:27.851781Z",
     "start_time": "2024-03-14T11:29:26.343856Z"
    }
   },
   "id": "245bd86a1cc3890e",
   "execution_count": 1
  },
  {
   "cell_type": "code",
   "outputs": [],
   "source": [
    "interpreter = Interpreter()"
   ],
   "metadata": {
    "collapsed": false,
    "ExecuteTime": {
     "end_time": "2024-03-14T11:29:50.762782Z",
     "start_time": "2024-03-14T11:29:50.741624Z"
    }
   },
   "id": "754cd0230206a532",
   "execution_count": 2
  },
  {
   "cell_type": "code",
   "outputs": [],
   "source": [
    "code1 = '''\n",
    "x = 10\n",
    "y = 20\n",
    "print(x + y)\n",
    "'''"
   ],
   "metadata": {
    "collapsed": false,
    "ExecuteTime": {
     "end_time": "2024-03-14T13:29:36.604037Z",
     "start_time": "2024-03-14T13:29:36.596841Z"
    }
   },
   "id": "986cea7ee4d032b4",
   "execution_count": 4
  },
  {
   "cell_type": "code",
   "outputs": [],
   "source": [
    "code2 = '''\n",
    "z = x * y\n",
    "print(z)\n",
    "'''"
   ],
   "metadata": {
    "collapsed": false,
    "ExecuteTime": {
     "end_time": "2024-03-14T11:30:19.843724Z",
     "start_time": "2024-03-14T11:30:19.836542Z"
    }
   },
   "id": "402c8dac487d5015",
   "execution_count": 4
  },
  {
   "cell_type": "code",
   "outputs": [
    {
     "name": "stdout",
     "output_type": "stream",
     "text": [
      "30\n"
     ]
    }
   ],
   "source": [
    "interpreter.execute(code1)"
   ],
   "metadata": {
    "collapsed": false,
    "ExecuteTime": {
     "end_time": "2024-03-14T11:32:01.548366Z",
     "start_time": "2024-03-14T11:32:01.430592Z"
    }
   },
   "id": "7e17cc2b8a1771e8",
   "execution_count": 5
  },
  {
   "cell_type": "code",
   "outputs": [
    {
     "name": "stdout",
     "output_type": "stream",
     "text": [
      "200\n"
     ]
    }
   ],
   "source": [
    "interpreter.execute(code2)"
   ],
   "metadata": {
    "collapsed": false,
    "ExecuteTime": {
     "end_time": "2024-03-14T11:32:08.607788Z",
     "start_time": "2024-03-14T11:32:08.597429Z"
    }
   },
   "id": "9751ff8fae0830ed",
   "execution_count": 6
  },
  {
   "cell_type": "code",
   "outputs": [],
   "source": [
    "from Tools.Interpreter import Interpreter"
   ],
   "metadata": {
    "collapsed": false,
    "ExecuteTime": {
     "end_time": "2024-03-14T13:28:23.342797Z",
     "start_time": "2024-03-14T13:28:21.824218Z"
    }
   },
   "id": "2dc441b861618763",
   "execution_count": 1
  },
  {
   "cell_type": "code",
   "outputs": [],
   "source": [
    "interpreter = Interpreter()"
   ],
   "metadata": {
    "collapsed": false,
    "ExecuteTime": {
     "end_time": "2024-03-14T13:29:12.360723Z",
     "start_time": "2024-03-14T13:29:12.348027Z"
    }
   },
   "id": "14c4999bab89d02f",
   "execution_count": 2
  },
  {
   "cell_type": "code",
   "outputs": [
    {
     "name": "stdout",
     "output_type": "stream",
     "text": [
      "30\n"
     ]
    }
   ],
   "source": [
    "ans = interpreter.execute(code1)"
   ],
   "metadata": {
    "collapsed": false,
    "ExecuteTime": {
     "end_time": "2024-03-14T13:29:45.438798Z",
     "start_time": "2024-03-14T13:29:45.402514Z"
    }
   },
   "id": "fb771a26e2942c0b",
   "execution_count": 5
  },
  {
   "cell_type": "code",
   "outputs": [
    {
     "data": {
      "text/plain": "'30\\n'"
     },
     "execution_count": 6,
     "metadata": {},
     "output_type": "execute_result"
    }
   ],
   "source": [
    "ans"
   ],
   "metadata": {
    "collapsed": false,
    "ExecuteTime": {
     "end_time": "2024-03-14T13:29:49.741205Z",
     "start_time": "2024-03-14T13:29:49.723337Z"
    }
   },
   "id": "6208fd90926769e1",
   "execution_count": 6
  },
  {
   "cell_type": "code",
   "outputs": [
    {
     "name": "stdout",
     "output_type": "stream",
     "text": [
      "30\n"
     ]
    }
   ],
   "source": [
    "tool.run(code1)"
   ],
   "metadata": {
    "collapsed": false,
    "ExecuteTime": {
     "end_time": "2024-03-14T11:56:33.815418Z",
     "start_time": "2024-03-14T11:56:33.691162Z"
    }
   },
   "id": "b6f577151f694e4c",
   "execution_count": 13
  },
  {
   "cell_type": "code",
   "outputs": [
    {
     "name": "stdout",
     "output_type": "stream",
     "text": [
      "200\n"
     ]
    }
   ],
   "source": [
    "ans = tool.run(code2)"
   ],
   "metadata": {
    "collapsed": false,
    "ExecuteTime": {
     "end_time": "2024-03-14T13:27:34.333613Z",
     "start_time": "2024-03-14T13:27:34.274103Z"
    }
   },
   "id": "94b407a911e89f41",
   "execution_count": 17
  },
  {
   "cell_type": "code",
   "outputs": [],
   "source": [
    "ans"
   ],
   "metadata": {
    "collapsed": false,
    "ExecuteTime": {
     "end_time": "2024-03-14T13:27:38.638351Z",
     "start_time": "2024-03-14T13:27:38.430749Z"
    }
   },
   "id": "47355e6d4f9c3c54",
   "execution_count": 18
  },
  {
   "cell_type": "code",
   "outputs": [],
   "source": [
    "tas = [(\"halahl\",\"heiheihiehei\"),(\"1234\",\"ajkajk\")]"
   ],
   "metadata": {
    "collapsed": false,
    "ExecuteTime": {
     "end_time": "2024-03-14T12:10:59.277036Z",
     "start_time": "2024-03-14T12:10:59.242177Z"
    }
   },
   "id": "6f06079e00a3f2e4",
   "execution_count": 15
  },
  {
   "cell_type": "code",
   "outputs": [
    {
     "data": {
      "text/plain": "\"[('halahl', 'heiheihiehei'), ('1234', 'ajkajk')]\""
     },
     "execution_count": 16,
     "metadata": {},
     "output_type": "execute_result"
    }
   ],
   "source": [
    "str(tas)"
   ],
   "metadata": {
    "collapsed": false,
    "ExecuteTime": {
     "end_time": "2024-03-14T12:11:06.620378Z",
     "start_time": "2024-03-14T12:11:06.590057Z"
    }
   },
   "id": "956504d59857e7d7",
   "execution_count": 16
  },
  {
   "cell_type": "code",
   "outputs": [],
   "source": [
    "import os"
   ],
   "metadata": {
    "collapsed": false,
    "ExecuteTime": {
     "end_time": "2024-03-25T08:38:54.439408Z",
     "start_time": "2024-03-25T08:38:54.431325Z"
    }
   },
   "id": "15234642e0ef58d1",
   "execution_count": 2
  },
  {
   "cell_type": "code",
   "outputs": [
    {
     "data": {
      "text/plain": "True"
     },
     "execution_count": 3,
     "metadata": {},
     "output_type": "execute_result"
    }
   ],
   "source": [
    "os.path.exists(\".env\")"
   ],
   "metadata": {
    "collapsed": false,
    "ExecuteTime": {
     "end_time": "2024-03-25T08:38:55.632200Z",
     "start_time": "2024-03-25T08:38:55.612847Z"
    }
   },
   "id": "6651c2307eaec7f1",
   "execution_count": 3
  },
  {
   "cell_type": "code",
   "outputs": [],
   "source": [
    "import pandas as pd"
   ],
   "metadata": {
    "collapsed": false,
    "ExecuteTime": {
     "end_time": "2024-04-04T07:38:19.076066Z",
     "start_time": "2024-04-04T07:38:19.067191Z"
    }
   },
   "id": "f3f623d7c4a46571",
   "execution_count": 2
  },
  {
   "cell_type": "code",
   "outputs": [],
   "source": [
    "from xiaoya.data import raw_files_utils"
   ],
   "metadata": {
    "collapsed": false,
    "ExecuteTime": {
     "end_time": "2024-04-04T07:37:54.028853Z",
     "start_time": "2024-04-04T07:37:51.646255Z"
    }
   },
   "id": "ea5a803022bfb28e",
   "execution_count": 1
  },
  {
   "cell_type": "code",
   "outputs": [],
   "source": [
    "raw_files_utils.merge_dfs()"
   ],
   "metadata": {
    "collapsed": false
   },
   "id": "a4c1c2a13fa655b9"
  }
 ],
 "metadata": {
  "kernelspec": {
   "name": "python3",
   "language": "python",
   "display_name": "Python 3 (ipykernel)"
  },
  "language_info": {
   "codemirror_mode": {
    "name": "ipython",
    "version": 2
   },
   "file_extension": ".py",
   "mimetype": "text/x-python",
   "name": "python",
   "nbconvert_exporter": "python",
   "pygments_lexer": "ipython2",
   "version": "2.7.6"
  }
 },
 "nbformat": 4,
 "nbformat_minor": 5
}
