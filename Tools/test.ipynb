{
 "cells": [
  {
   "cell_type": "code",
   "execution_count": 1,
   "id": "initial_id",
   "metadata": {
    "collapsed": true,
    "ExecuteTime": {
     "end_time": "2024-03-09T12:57:46.133019Z",
     "start_time": "2024-03-09T12:57:45.532758Z"
    }
   },
   "outputs": [],
   "source": [
    "import pandas as pd"
   ]
  },
  {
   "cell_type": "code",
   "outputs": [
    {
     "data": {
      "text/plain": "     PatientID RecordTime Name  Value\n0            1  2020/1/31  Sex    1.0\n1            2   2020/2/5  Sex    1.0\n2            3  2020/1/23  Sex    0.0\n3            4   2020/2/1  Sex    1.0\n4            5   2020/2/2  Sex    0.0\n..         ...        ...  ...    ...\n370        371   2020/2/4  Sex    1.0\n371        372   2020/2/6  Sex    1.0\n372        373  2020/2/12  Sex    0.0\n373        374   2020/2/4  Sex    1.0\n374        375   2020/2/9  Sex    1.0\n\n[375 rows x 4 columns]",
      "text/html": "<div>\n<style scoped>\n    .dataframe tbody tr th:only-of-type {\n        vertical-align: middle;\n    }\n\n    .dataframe tbody tr th {\n        vertical-align: top;\n    }\n\n    .dataframe thead th {\n        text-align: right;\n    }\n</style>\n<table border=\"1\" class=\"dataframe\">\n  <thead>\n    <tr style=\"text-align: right;\">\n      <th></th>\n      <th>PatientID</th>\n      <th>RecordTime</th>\n      <th>Name</th>\n      <th>Value</th>\n    </tr>\n  </thead>\n  <tbody>\n    <tr>\n      <th>0</th>\n      <td>1</td>\n      <td>2020/1/31</td>\n      <td>Sex</td>\n      <td>1.0</td>\n    </tr>\n    <tr>\n      <th>1</th>\n      <td>2</td>\n      <td>2020/2/5</td>\n      <td>Sex</td>\n      <td>1.0</td>\n    </tr>\n    <tr>\n      <th>2</th>\n      <td>3</td>\n      <td>2020/1/23</td>\n      <td>Sex</td>\n      <td>0.0</td>\n    </tr>\n    <tr>\n      <th>3</th>\n      <td>4</td>\n      <td>2020/2/1</td>\n      <td>Sex</td>\n      <td>1.0</td>\n    </tr>\n    <tr>\n      <th>4</th>\n      <td>5</td>\n      <td>2020/2/2</td>\n      <td>Sex</td>\n      <td>0.0</td>\n    </tr>\n    <tr>\n      <th>...</th>\n      <td>...</td>\n      <td>...</td>\n      <td>...</td>\n      <td>...</td>\n    </tr>\n    <tr>\n      <th>370</th>\n      <td>371</td>\n      <td>2020/2/4</td>\n      <td>Sex</td>\n      <td>1.0</td>\n    </tr>\n    <tr>\n      <th>371</th>\n      <td>372</td>\n      <td>2020/2/6</td>\n      <td>Sex</td>\n      <td>1.0</td>\n    </tr>\n    <tr>\n      <th>372</th>\n      <td>373</td>\n      <td>2020/2/12</td>\n      <td>Sex</td>\n      <td>0.0</td>\n    </tr>\n    <tr>\n      <th>373</th>\n      <td>374</td>\n      <td>2020/2/4</td>\n      <td>Sex</td>\n      <td>1.0</td>\n    </tr>\n    <tr>\n      <th>374</th>\n      <td>375</td>\n      <td>2020/2/9</td>\n      <td>Sex</td>\n      <td>1.0</td>\n    </tr>\n  </tbody>\n</table>\n<p>375 rows × 4 columns</p>\n</div>"
     },
     "execution_count": 5,
     "metadata": {},
     "output_type": "execute_result"
    }
   ],
   "source": [
    "pd.read_csv(\"../datasets/raw_events_data.csv\")"
   ],
   "metadata": {
    "collapsed": false,
    "ExecuteTime": {
     "end_time": "2024-03-09T12:58:13.653936Z",
     "start_time": "2024-03-09T12:58:13.578879Z"
    }
   },
   "id": "58cc6ef49c5c3c6",
   "execution_count": 5
  },
  {
   "cell_type": "code",
   "outputs": [],
   "source": [
    "strs ={'input': '我想知道数据集中的男女比例信息', 'text': '关键概念: 数据集中的男女比例信息\\n概念拆解:\\n - 数据集文件\\n - 性别数据的标识方式\\n - 男女比例的计算方法\\n\\n反思:\\n - 已经使用ListDirectory动作探查\"./datasets\"文件夹，找到了数据集的具体文件。\\n - 还需要了解数据集的结构和性别数据的标识方式。\\n - 需要设计并执行AnalyseCSV动作来计算男女比例。\\n - 最终需要回答用户的问题关于数据集中的男女比例信息。\\n\\n思考:\\n  （1）首先需要了解数据集的结构，特别是性别数据的标识方式。\\n  （2）然后根据性别数据的标识方式，设计并执行AnalyseCSV动作来计算男女比例。\\n  （3）当前需要获得取值的子要素是数据集的结构和性别数据的标识方式。\\n\\n推理:\\n - 由于已经知道了\"./datasets\"文件夹中的数据集文件，下一步应该是使用InspectCSV动作探查这些文件，了解数据集的结构和性别数据的标识方式。\\n - 然后，根据性别数据的标识方式，可以设计并执行AnalyseCSV动作来计算男女比例。\\n\\n&计划&\\n1.对找到的数据集文件使用InspectCSV动作，了解数据集的结构和性别数据的标识方式。\\n2.根据性别数据的标识方式，设计并执行AnalyseCSV动作来计算男女比例。\\n3.鉴于以上步骤，请回答用户最初的问题：我想知道数据集中的男女比例信息。\\n<END_OF_PLAN>'}"
   ],
   "metadata": {
    "collapsed": false,
    "ExecuteTime": {
     "end_time": "2024-03-11T13:23:56.597644Z",
     "start_time": "2024-03-11T13:23:56.592090Z"
    }
   },
   "id": "f3f3990e9e034412",
   "execution_count": 13
  },
  {
   "cell_type": "code",
   "outputs": [
    {
     "data": {
      "text/plain": "'关键概念: 数据集中的男女比例信息\\n概念拆解:\\n - 数据集文件\\n - 性别数据的标识方式\\n - 男女比例的计算方法\\n\\n反思:\\n - 已经使用ListDirectory动作探查\"./datasets\"文件夹，找到了数据集的具体文件。\\n - 还需要了解数据集的结构和性别数据的标识方式。\\n - 需要设计并执行AnalyseCSV动作来计算男女比例。\\n - 最终需要回答用户的问题关于数据集中的男女比例信息。\\n\\n思考:\\n  （1）首先需要了解数据集的结构，特别是性别数据的标识方式。\\n  （2）然后根据性别数据的标识方式，设计并执行AnalyseCSV动作来计算男女比例。\\n  （3）当前需要获得取值的子要素是数据集的结构和性别数据的标识方式。\\n\\n推理:\\n - 由于已经知道了\"./datasets\"文件夹中的数据集文件，下一步应该是使用InspectCSV动作探查这些文件，了解数据集的结构和性别数据的标识方式。\\n - 然后，根据性别数据的标识方式，可以设计并执行AnalyseCSV动作来计算男女比例。\\n\\n&计划&\\n1.对找到的数据集文件使用InspectCSV动作，了解数据集的结构和性别数据的标识方式。\\n2.根据性别数据的标识方式，设计并执行AnalyseCSV动作来计算男女比例。\\n3.鉴于以上步骤，请回答用户最初的问题：我想知道数据集中的男女比例信息。\\n<END_OF_PLAN>'"
     },
     "execution_count": 16,
     "metadata": {},
     "output_type": "execute_result"
    }
   ],
   "source": [
    "strs['text']"
   ],
   "metadata": {
    "collapsed": false,
    "ExecuteTime": {
     "end_time": "2024-03-11T13:24:39.552158Z",
     "start_time": "2024-03-11T13:24:39.542040Z"
    }
   },
   "id": "20b41669289a4142",
   "execution_count": 16
  },
  {
   "cell_type": "code",
   "outputs": [],
   "source": [
    "import re\n",
    "from typing import List\n",
    "from dataclasses import dataclass\n",
    "\n",
    "@dataclass\n",
    "class Step:\n",
    "    value: str\n",
    "\n",
    "@dataclass\n",
    "class Plan:\n",
    "    steps: List[Step]"
   ],
   "metadata": {
    "collapsed": false,
    "ExecuteTime": {
     "end_time": "2024-03-11T13:32:06.030673Z",
     "start_time": "2024-03-11T13:32:06.026650Z"
    }
   },
   "id": "8414e997761c4d94",
   "execution_count": 22
  },
  {
   "cell_type": "code",
   "outputs": [],
   "source": [
    "class PlanningOutputParser:\n",
    "    \"\"\"Planning output parser.\"\"\"\n",
    "\n",
    "    def parse(self, text: str) -> Plan:\n",
    "        text = text[text.find(\"&计划&\"):]\n",
    "        step_texts = re.findall(r\"\\d+\\.(.*?)(?=\\d+\\.|$)\", text, flags=re.DOTALL)\n",
    "        steps = [Step(value=step.strip()) for step in step_texts]\n",
    "        return Plan(steps=steps)"
   ],
   "metadata": {
    "collapsed": false,
    "ExecuteTime": {
     "end_time": "2024-03-11T13:33:53.425106Z",
     "start_time": "2024-03-11T13:33:53.420168Z"
    }
   },
   "id": "6f2f6e6d90294bf6",
   "execution_count": 25
  },
  {
   "cell_type": "code",
   "outputs": [
    {
     "data": {
      "text/plain": "Plan(steps=[Step(value='对找到的数据集文件使用InspectCSV动作，了解数据集的结构和性别数据的标识方式。'), Step(value='根据性别数据的标识方式，设计并执行AnalyseCSV动作来计算男女比例。'), Step(value='鉴于以上步骤，请回答用户最初的问题：我想知道数据集中的男女比例信息。\\n<END_OF_PLAN>')])"
     },
     "execution_count": 26,
     "metadata": {},
     "output_type": "execute_result"
    }
   ],
   "source": [
    "PlanningOutputParser().parse(text=strs['text'])"
   ],
   "metadata": {
    "collapsed": false,
    "ExecuteTime": {
     "end_time": "2024-03-11T13:33:53.861409Z",
     "start_time": "2024-03-11T13:33:53.838323Z"
    }
   },
   "id": "59fe2bce4af94d18",
   "execution_count": 26
  },
  {
   "cell_type": "code",
   "outputs": [],
   "source": [],
   "metadata": {
    "collapsed": false
   },
   "id": "d38bd54325b78703"
  }
 ],
 "metadata": {
  "kernelspec": {
   "display_name": "Python 3",
   "language": "python",
   "name": "python3"
  },
  "language_info": {
   "codemirror_mode": {
    "name": "ipython",
    "version": 2
   },
   "file_extension": ".py",
   "mimetype": "text/x-python",
   "name": "python",
   "nbconvert_exporter": "python",
   "pygments_lexer": "ipython2",
   "version": "2.7.6"
  }
 },
 "nbformat": 4,
 "nbformat_minor": 5
}
